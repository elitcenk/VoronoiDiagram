{
 "cells": [
  {
   "cell_type": "markdown",
   "metadata": {},
   "source": [
    "# Fortune Algorithm\n",
    "Compute the Voronoï diagram of a set of points"
   ]
  },
  {
   "cell_type": "code",
   "execution_count": null,
   "metadata": {
    "collapsed": true
   },
   "outputs": [],
   "source": [
    "from math import sqrt"
   ]
  },
  {
   "cell_type": "markdown",
   "metadata": {},
   "source": [
    "## Create Point Class\n",
    "Data types used in input/output"
   ]
  },
  {
   "cell_type": "code",
   "execution_count": null,
   "metadata": {
    "collapsed": true
   },
   "outputs": [],
   "source": [
    "class Point(object):\n",
    "    \"\"\"A point in the plane\n",
    "    Attributes:\n",
    "        x: float, the x coordinate\n",
    "        y: float, the y coordinate\n",
    "    Properties:\n",
    "        square: float, the square of the norm of the vector (x, y)\n",
    "        norm: float, the norm of the vector (x, y)\n",
    "    \"\"\"\n",
    "    def __init__(self, x, y):\n",
    "        self.x = x\n",
    "        self.y = y\n",
    "\n",
    "    def __repr__(self):\n",
    "        return \"%s(%r, %r)\" % (self.__class__.__name__, self.x, self.y)\n",
    "\n",
    "    def __add__(self, other):\n",
    "        return self.__class__(self.x + other.x, self.y + other.y)\n",
    "\n",
    "    def __neg__(self):\n",
    "        return self.__class__(-self.x, -self.y)\n",
    "\n",
    "    def __sub__(self, other):\n",
    "        return self + (-other)\n",
    "\n",
    "    def __div__(self, other):\n",
    "        return self.__class__(self.x / other, self.y / other)\n",
    "\n",
    "    def __cmp__(self, other):\n",
    "        cmp_x = cmp(self.x, other.x)\n",
    "        if cmp_x != 0:\n",
    "            return cmp_x\n",
    "        return cmp(self.y, other.y)\n",
    "\n",
    "    def __abs__(self):\n",
    "        return self.norm\n",
    "\n",
    "    @property\n",
    "    def square(self):\n",
    "        return self.x**2 + self.y**2\n",
    "\n",
    "    @property\n",
    "    def norm(self):\n",
    "        return sqrt(self.square)\n"
   ]
  },
  {
   "cell_type": "markdown",
   "metadata": {},
   "source": [
    "## An half-edge of the resulting graph.\n",
    "    The attributes of a VoronoiEdge are used internally to define the corresponding half-edge.\n"
   ]
  },
  {
   "cell_type": "code",
   "execution_count": null,
   "metadata": {
    "collapsed": true
   },
   "outputs": [],
   "source": [
    "class VoronoiEdge(object):\n",
    "    \"\"\"An half-edge of the resulting graph.\n",
    "    The attributes of a VoronoiEdge are used internally to define the corresponding half-edge.\n",
    "    Properties:\n",
    "        line: (Point, Point), a point and a vector defining the line on which the edge lies\n",
    "        left_site: Point, the site on the left of the edge\n",
    "        right_site: Point, the site on the right of the edge\n",
    "        vertex_from: Point, the start point of the edge, or None if the edge is not bounded\n",
    "        vertex_to: Point, the end point of the edge, or None if the edge is not bounded\n",
    "    \"\"\"\n",
    "    def __init__(self, origin, twin, site, next_edge):  #pylint: disable=W0231\n",
    "        self._origin = origin\n",
    "        self._twin = twin\n",
    "        self._site = site\n",
    "        self._next_edge = next_edge\n",
    "        self._cut_origin = None\n",
    "\n",
    "    def __repr__(self):\n",
    "        return \"%s(left_site=%r, right_site=%r, vertex_from=%r, vertex_to=%r)\" % (\n",
    "            self.__class__.__name__, self.left_site, self.right_site, self.vertex_from, self.vertex_to)\n",
    "\n",
    "    def _iter_neighbours(self):\n",
    "        he = self\n",
    "        while he is not None:\n",
    "            yield he\n",
    "            he = he._next_edge\n",
    "\n",
    "    @property\n",
    "    def line(self):\n",
    "        \"\"\"Returns p, v such that p is the point of the line lying in the middle of the two sites\n",
    "        and v is a vector directing the line in the direction that keeps the left site on the left\"\"\"\n",
    "        diff = self.right_site - self.left_site\n",
    "        return (self.left_site + self.right_site) / 2.0, Point(-diff.y, diff.x)\n",
    "\n",
    "    @property\n",
    "    def left_site(self):\n",
    "        return self._site\n",
    "\n",
    "    @property\n",
    "    def right_site(self):\n",
    "        return self._twin._site\n",
    "\n",
    "    @property\n",
    "    def vertex_from(self):\n",
    "        if self._origin is not None:\n",
    "            return self._origin\n",
    "        return self._cut_origin\n",
    "\n",
    "    @property\n",
    "    def vertex_to(self):\n",
    "        return self._twin.vertex_from\n",
    "\n",
    "    def trim(self, x_min, x_max, y_min, y_max):\n",
    "        \"\"\"Trim an infinite edge to make it fit in a bounding box\"\"\"\n",
    "        x0, y0 = self.line[0].x, self.line[0].y\n",
    "        for a, b, obj in (\n",
    "                (-self.line[1].x, -self.line[1].y, self),\n",
    "                (self.line[1].x, self.line[1].y, self._twin),):\n",
    "            if getattr(obj, '_origin') is None:\n",
    "                x_limit = x_max if a > 0 else x_min\n",
    "                y_limit = y_max if b > 0 else y_min\n",
    "                if a != 0:\n",
    "                    t = (x_limit - x0) / a\n",
    "                    _y = y0 + b * t\n",
    "                    if y_min <= _y <= y_max:\n",
    "                        setattr(obj, '_cut_origin', Point(x_limit, _y))\n",
    "                        continue\n",
    "                assert b != 0\n",
    "                t = (y_limit - y0) / b\n",
    "                _x = x0 + a * t\n",
    "                assert x_min <= _x <= x_max\n",
    "                setattr(obj, '_cut_origin', Point(_x, y_limit))"
   ]
  },
  {
   "cell_type": "markdown",
   "metadata": {},
   "source": [
    "Determinant of two vectors, represented by Point instances"
   ]
  },
  {
   "cell_type": "code",
   "execution_count": null,
   "metadata": {
    "collapsed": true
   },
   "outputs": [],
   "source": [
    "def determinant(v1, v2):\n",
    "    \"\"\"Determinant of two vectors, represented by Point instances\"\"\"\n",
    "    return v1.x * v2.y - v1.y * v2.x"
   ]
  },
  {
   "cell_type": "markdown",
   "metadata": {},
   "source": [
    "The circumcircle of three points"
   ]
  },
  {
   "cell_type": "code",
   "execution_count": null,
   "metadata": {
    "collapsed": true
   },
   "outputs": [],
   "source": [
    "def circumcircle(p1, p2, p3):\n",
    "    \"\"\"The circumcircle of three points\"\"\"\n",
    "    d = 2 * (p1.x * (p2.y - p3.y) + p2.x * (p3.y - p1.y) + p3.x * (p1.y - p2.y))\n",
    "    x = (p1.square * (p2.y - p3.y) + p2.square * (p3.y - p1.y) + p3.square * (p1.y - p2.y)) / d   #pylint: disable=C0301\n",
    "    y = (p1.square * (p3.x - p2.x) + p2.square * (p1.x - p3.x) + p3.square * (p2.x - p1.x)) / d   #pylint: disable=C0301\n",
    "    p = Point(x, y)\n",
    "    r = (p1 - p).norm\n",
    "\n",
    "    return (p, r)"
   ]
  },
  {
   "cell_type": "markdown",
   "metadata": {},
   "source": [
    "## Create Heap Class\n",
    "A basic implementation of a heap"
   ]
  },
  {
   "cell_type": "code",
   "execution_count": null,
   "metadata": {
    "collapsed": true
   },
   "outputs": [],
   "source": [
    "class Heap(object):\n",
    "    \"\"\"A basic implementation of a heap\"\"\"\n",
    "    def __init__(self, items=None):\n",
    "        if items is None:\n",
    "            self._items = []\n",
    "        else:\n",
    "            self._items = list(items)\n",
    "            N = len(self._items) // 2\n",
    "            for i in range(0, N):\n",
    "                self._heapify(N - i)\n",
    "\n",
    "    def __repr__(self):\n",
    "        return \"%s(%r)\" % (self.__class__.__name__, self._items)\n",
    "\n",
    "    def __nonzero__(self):\n",
    "        return bool(self._items)\n",
    "\n",
    "    def _heapify(self, i):\n",
    "        size = len(self._items)\n",
    "        left = 2 * i\n",
    "        right = left + 1\n",
    "\n",
    "        m = i\n",
    "        if left <= size and self._items[left - 1] > self._items[m - 1]:\n",
    "            m = left\n",
    "        if right <= size and self._items[right - 1] > self._items[m - 1]:\n",
    "            m = right\n",
    "        if m != i:\n",
    "            _temp = self._items[i - 1]\n",
    "            self._items[i - 1] = self._items[m - 1]\n",
    "            self._items[m - 1] = _temp\n",
    "            self._heapify(m)\n",
    "\n",
    "    def insert(self, item):\n",
    "        self._items.append(item)\n",
    "        self._sift_up()\n",
    "\n",
    "    def _sift_up(self):\n",
    "        k = len(self._items)\n",
    "        v = self._items[k - 1]\n",
    "        while k > 1 and v > self._items[k // 2 - 1]:\n",
    "            self._items[k - 1] = self._items[k // 2 - 1]\n",
    "            k = k // 2\n",
    "        self._items[k - 1] = v\n",
    "\n",
    "    def pop_max(self):\n",
    "        if len(self._items) == 1:\n",
    "            return self._items.pop()\n",
    "        v = self._items[0]\n",
    "        self._items[0] = self._items.pop()\n",
    "        self._sift_down()\n",
    "        return v\n",
    "\n",
    "    def _sift_down(self):\n",
    "        k = 1\n",
    "        l = len(self._items)\n",
    "        v = self._items[0]\n",
    "        while k <= l // 2:\n",
    "            j = 2 * k\n",
    "            if j < l and self._items[j - 1] <= self._items[j]:\n",
    "                j += 1\n",
    "            if v >= self._items[j - 1]:\n",
    "                break\n",
    "            self._items[k - 1] = self._items[j - 1]\n",
    "            k = j\n",
    "        self._items[k - 1] = v\n"
   ]
  },
  {
   "cell_type": "markdown",
   "metadata": {
    "collapsed": true
   },
   "source": [
    "## Create Queue Class\n",
    "A queue based on a heap"
   ]
  },
  {
   "cell_type": "code",
   "execution_count": null,
   "metadata": {
    "collapsed": true
   },
   "outputs": [],
   "source": [
    "class Queue(Heap):\n",
    "    \"\"\"A queue based on a heap\"\"\"\n",
    "    def __iter__(self):\n",
    "        while self:\n",
    "            yield self.pop_max()"
   ]
  },
  {
   "cell_type": "markdown",
   "metadata": {},
   "source": [
    "# Fortune's Algorithms Implementation\n",
    "Main class used for Voronoï diagram computation.\n",
    "A Voronoï diagram, computed using Fortune's algorithm"
   ]
  },
  {
   "cell_type": "code",
   "execution_count": null,
   "metadata": {
    "collapsed": true
   },
   "outputs": [],
   "source": [
    "class Voronoi(object):\n",
    "    \"\"\"A Voronoï diagram, computed using Fortune's algorithm\n",
    "    Args:\n",
    "        sites: list of Point, the sites we want to compute the diagram of\n",
    "        bounding_box: tuple of 4 float, (x_min, x_max, y_min, y_max) used to trim the edges, optional\n",
    "    Attributes:\n",
    "        vertices: list of Point, the vertices of the resulting Voronoï diagram\n",
    "        edges: list of VoronoiEdge, the edges of the resulting Voronoï diagram\n",
    "    \"\"\"\n",
    "    def __init__(self, sites, bounding_box=None):\n",
    "        self._queue = Queue([SiteEvent(s) for s in sites])\n",
    "        self._beach_line = None\n",
    "        self._faces = {}\n",
    "        self.vertices = []\n",
    "        self.edges = []\n",
    "\n",
    "        self._compute()\n",
    "        if bounding_box is not None:\n",
    "            for e in self.edges:\n",
    "                e.trim(*bounding_box)\n",
    "\n",
    "    def _compute(self):\n",
    "        for event in self._queue:\n",
    "            if isinstance(event, SiteEvent):\n",
    "                self._handle_site_event(event)\n",
    "            elif event.is_valid:\n",
    "                self._handle_circle_event(event)\n",
    "\n",
    "    def _create_twins(self, site1, site2):\n",
    "        half_edge = VoronoiEdge(None, None, site1, self._faces.get(site1, None))\n",
    "        half_edge._twin = VoronoiEdge(None, half_edge, site2, self._faces.get(site2, None))\n",
    "        self.edges.append(half_edge)\n",
    "        self._faces[site1] = half_edge\n",
    "        self._faces[site2] = half_edge._twin\n",
    "\n",
    "        return half_edge\n",
    "\n",
    "    def _handle_site_event(self, event):\n",
    "        # Insert new arc\n",
    "        inserted = self._insert_beach_line(event.site)\n",
    "        if inserted.left is None:\n",
    "            return\n",
    "        # If inserted on another, remove its bound events\n",
    "        if inserted.left is not None and inserted.left.circle_event is not None:\n",
    "            inserted.left.circle_event = None\n",
    "        # DLL things\n",
    "        self._create_twins(inserted.site, inserted.left.site)\n",
    "        # Check on left and right for circle events (converging)\n",
    "        for e in _build_circle_events(inserted=inserted):\n",
    "            self._queue.insert(e)\n",
    "\n",
    "    def _handle_circle_event(self, event):\n",
    "        # Delete the disappearing arc from beach_line\n",
    "        removed_on = self._remove_from_beach_line(event.arc)\n",
    "        # Remove all circles events involving it\n",
    "        if event.arc.left is not None and event.arc.left.circle_event is not None:\n",
    "            event.arc.left.circle_event = None\n",
    "        if event.arc.right is not None and event.arc.right.circle_event is not None:\n",
    "            event.arc.right.circle_event = None\n",
    "        # Add vertex\n",
    "        self.vertices.append(event.circle[0])\n",
    "\n",
    "        # HE things\n",
    "        new_half_edge = self._create_twins(removed_on.right.site, removed_on.site)\n",
    "        new_half_edge._origin = event.circle[0]\n",
    "\n",
    "        for left, right in (\n",
    "                (event.arc.left.site, event.arc.site),\n",
    "                (event.arc.site, event.arc.right.site)):\n",
    "            half_edge = None\n",
    "            for he in self._faces[left]._iter_neighbours():\n",
    "                if he._twin._site == right:\n",
    "                    half_edge = he\n",
    "                    break\n",
    "            half_edge._origin = event.circle[0]\n",
    "        # Check two new triples for circle events\n",
    "        for e in _build_circle_events(removed_on=removed_on):\n",
    "            self._queue.insert(e)\n",
    "\n",
    "    def _find_arc_above(self, site):\n",
    "        if self._beach_line is None:\n",
    "            return\n",
    "        for arc in self._beach_line:\n",
    "            low, high = arc.get_interval(site.y)\n",
    "            if high is None or high >= site.x:\n",
    "                assert low is None or site.x >= low\n",
    "                return arc\n",
    "\n",
    "    def _insert_beach_line(self, site):\n",
    "        arc = self._find_arc_above(site)\n",
    "        if arc is None:\n",
    "            self._beach_line = Arc(site)\n",
    "            return self._beach_line\n",
    "        _temp = arc.right\n",
    "        arc.right = Arc(site, left=arc)\n",
    "        arc.right.right = Arc(arc.site, left=arc.right, right=_temp)\n",
    "        if _temp is not None:\n",
    "            _temp.left = arc.right.right\n",
    "        return arc.right\n",
    "\n",
    "    def _remove_from_beach_line(self, arc):\n",
    "        if arc == self._beach_line:\n",
    "            self._beach_line = arc.right\n",
    "        if arc.left is not None:\n",
    "            arc.left.right = arc.right\n",
    "        if arc.right is not None:\n",
    "            arc.right.left = arc.left\n",
    "        return arc.left"
   ]
  },
  {
   "cell_type": "markdown",
   "metadata": {},
   "source": [
    "Compute the intersections of two parabolas. This method will compute the intersections of the two parabolas defined by point1, point2 and the horizontal line with ordinate sweep_line_y lying below those points. The first intersection returned corresponds to the transition from point1 to point2 occuring when moving along the beach line from left to right."
   ]
  },
  {
   "cell_type": "code",
   "execution_count": null,
   "metadata": {
    "collapsed": true
   },
   "outputs": [],
   "source": [
    "def get_parabolas_intersections(point1, point2, sweep_line_y):  #pylint: disable=R0914\n",
    "    \"\"\"Compute the intersections of two parabolas\n",
    "    This method will compute the intersections of the two parabolas defined by\n",
    "    point1, point2 and the horizontal line with ordinate sweep_line_y lying below those points.\n",
    "    The first intersection returned corresponds to the transition from point1 to point2 occuring when\n",
    "    moving along the beach line from left to right.\n",
    "    Args:\n",
    "        point1: tuple (x, y) of float numbers with y >= sweep_line_y\n",
    "        point2: tuple (x, y) of float numbers with y >= sweep_line_y\n",
    "        sweep_line_y: float\n",
    "    \"\"\"\n",
    "    (a, b) = point1.x, point1.y\n",
    "    (c, d) = point2.x, point2.y\n",
    "\n",
    "    b -= sweep_line_y\n",
    "    d -= sweep_line_y\n",
    "\n",
    "    # The equation will be A.x^2 + B.x + C = 0\n",
    "    A = (1 / b - 1 / d) / 2\n",
    "    B = c / d - a / b\n",
    "    C = (b - d + a**2 / b - c**2 / d) / 2\n",
    "\n",
    "    delta = B**2 - 4 * A * C\n",
    "\n",
    "    assert delta > 0\n",
    "\n",
    "    x1 = (- B - sqrt(delta)) / (2 * A)\n",
    "    x2 = (- B + sqrt(delta)) / (2 * A)\n",
    "\n",
    "    y1 = (x1 - a)**2 / (2 * b) + b / 2\n",
    "    y2 = (x2 - a)**2 / (2 * b) + b / 2\n",
    "\n",
    "    result = (Point(x1, y1 + sweep_line_y), Point(x2, y2 + sweep_line_y))\n",
    "\n",
    "    result = result if A >= 0 else (result[1], result[0])\n",
    "\n",
    "    if b > d:\n",
    "        return result[0], result[1]\n",
    "    else:\n",
    "        return result[1], result[0]"
   ]
  },
  {
   "cell_type": "markdown",
   "metadata": {},
   "source": [
    "## Create Arc Class\n",
    "An arc of the beach line"
   ]
  },
  {
   "cell_type": "code",
   "execution_count": null,
   "metadata": {
    "collapsed": true
   },
   "outputs": [],
   "source": [
    "class Arc(object):\n",
    "    \"\"\"An arc of the beach line\"\"\"\n",
    "    def __init__(self, site, left=None, right=None, circle_event=None):\n",
    "        self.site = site\n",
    "        self.left = left\n",
    "        self.right = right\n",
    "        self.circle_event = circle_event\n",
    "\n",
    "    def __iter__(self):\n",
    "        item = self\n",
    "        while item is not None:\n",
    "            yield item\n",
    "            item = item.right\n",
    "\n",
    "    def get_interval(self, sweep_line_y):\n",
    "        low = None\n",
    "        high = None\n",
    "        if self.left is not None:\n",
    "            low = get_parabolas_intersections(self.left.site, self.site, sweep_line_y)[0].x\n",
    "        if self.right is not None:\n",
    "            high = get_parabolas_intersections(self.site, self.right.site, sweep_line_y)[0].x\n",
    "        return low, high\n"
   ]
  },
  {
   "cell_type": "code",
   "execution_count": null,
   "metadata": {
    "collapsed": true
   },
   "outputs": [],
   "source": [
    "## Create Event Classes"
   ]
  },
  {
   "cell_type": "code",
   "execution_count": null,
   "metadata": {
    "collapsed": true
   },
   "outputs": [],
   "source": [
    "class FortuneEvent(object):\n",
    "\n",
    "    def __cmp__(self, other):\n",
    "        return cmp(self.y, other.y)\n",
    "\n",
    "    @property\n",
    "    def y(self):\n",
    "        raise NotImplementedError()\n",
    "\n",
    "\n",
    "class SiteEvent(FortuneEvent):\n",
    "\n",
    "    def __init__(self, site):\n",
    "        self.site = site\n",
    "\n",
    "    def __repr__(self):\n",
    "        return u\"SiteEvent at y=%s\" % self.y\n",
    "\n",
    "    @property\n",
    "    def y(self):\n",
    "        return self.site.y\n",
    "\n",
    "\n",
    "class CircleEvent(FortuneEvent):\n",
    "\n",
    "    def __init__(self, arc):\n",
    "        self.arc = arc\n",
    "        self.circle = circumcircle(arc.left.site, arc.site, arc.right.site)\n",
    "        arc.circle_event = self\n",
    "\n",
    "    @property\n",
    "    def y(self):\n",
    "        (center, radius) = self.circle\n",
    "        return center.y - radius\n",
    "\n",
    "    @property\n",
    "    def is_valid(self):\n",
    "        return self.arc.circle_event == self"
   ]
  },
  {
   "cell_type": "code",
   "execution_count": null,
   "metadata": {
    "collapsed": true
   },
   "outputs": [],
   "source": [
    "def _build_circle_events(inserted=None, removed_on=None):\n",
    "    to_check = []\n",
    "\n",
    "    if inserted is not None:\n",
    "        if inserted.left is not None and inserted.left.left is not None:\n",
    "            to_check.append(inserted.left)\n",
    "        if inserted.right is not None and inserted.right.right is not None:\n",
    "            to_check.append(inserted.right)\n",
    "    if removed_on is not None:\n",
    "        if removed_on.left is not None and removed_on.right is not None:\n",
    "            to_check.append(removed_on)\n",
    "        if removed_on.right is not None and removed_on.right.right is not None:\n",
    "            to_check.append(removed_on.right)\n",
    "\n",
    "    for arc in to_check:\n",
    "        a, b, c = arc.left.site, arc.site, arc.right.site\n",
    "        if determinant(b - a, c - b) <= 0:\n",
    "            yield CircleEvent(arc)"
   ]
  },
  {
   "cell_type": "code",
   "execution_count": null,
   "metadata": {
    "collapsed": true
   },
   "outputs": [],
   "source": [
    "print('asd')\n",
    "v = Voronoi([Point(0.0, 0.0), Point(0.0, 1.0), Point(-0.5, 0.5)])\n",
    "v.vertices # [Point(-0.0, 0.5)]\n",
    "v.edge# [VoronoiEdge(...), ...]\n",
    "\n",
    "print('asd')"
   ]
  }
 ],
 "metadata": {
  "anaconda-cloud": {},
  "kernelspec": {
   "display_name": "Python [conda env:Anaconda]",
   "language": "python",
   "name": "conda-env-Anaconda-py"
  },
  "language_info": {
   "codemirror_mode": {
    "name": "ipython",
    "version": 3
   },
   "file_extension": ".py",
   "mimetype": "text/x-python",
   "name": "python",
   "nbconvert_exporter": "python",
   "pygments_lexer": "ipython3",
   "version": "3.5.2"
  }
 },
 "nbformat": 4,
 "nbformat_minor": 0
}
